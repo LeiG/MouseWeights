{
 "metadata": {
  "name": "",
  "signature": "sha256:20b2daa83e961332db333f7b43f19f6d5e1bd14f016303dd12c9c77bc52a58b0"
 },
 "nbformat": 3,
 "nbformat_minor": 0,
 "worksheets": [
  {
   "cells": [
    {
     "cell_type": "code",
     "collapsed": false,
     "input": [
      "%matplotlib inline\n",
      "import matplotlib.pyplot as plt\n",
      "\n",
      "# Some nice default configuration for plots\n",
      "plt.rcParams['figure.figsize'] = 10, 7.5\n",
      "plt.rcParams['axes.grid'] = True\n",
      "plt.gray()\n",
      "\n",
      "from __future__ import division\n",
      "import numpy as np\n",
      "import pandas as pd"
     ],
     "language": "python",
     "metadata": {},
     "outputs": [
      {
       "metadata": {},
       "output_type": "display_data",
       "text": [
        "<matplotlib.figure.Figure at 0x10bda0b50>"
       ]
      }
     ],
     "prompt_number": 2
    },
    {
     "cell_type": "heading",
     "level": 3,
     "metadata": {},
     "source": [
      "Posterior Analysis"
     ]
    },
    {
     "cell_type": "code",
     "collapsed": false,
     "input": [
      "mouse_weight = np.loadtxt('mouse_weights/updates.txt', delimiter=',')"
     ],
     "language": "python",
     "metadata": {},
     "outputs": [],
     "prompt_number": 2
    },
    {
     "cell_type": "code",
     "collapsed": false,
     "input": [
      "postGamma = np.mean(mouse_weight, 0)[0:57]\n",
      "postAlpha = np.mean(mouse_weight, 0)[57:59]\n",
      "postBeta = np.mean(mouse_weight, 0)[59:116]"
     ],
     "language": "python",
     "metadata": {},
     "outputs": [],
     "prompt_number": 23
    },
    {
     "cell_type": "code",
     "collapsed": false,
     "input": [
      "mousediet = pd.read_csv('mouse_weights_nomiss.txt', sep = \" \")\n",
      "dietIdx = np.unique(mousediet['diet'])"
     ],
     "language": "python",
     "metadata": {},
     "outputs": [],
     "prompt_number": 32
    },
    {
     "cell_type": "code",
     "collapsed": false,
     "input": [
      "print \"The prior Alpha is {0} and the posterior Alpha is {1}\".format(np.array([45.50, -5.75]), postAlpha)\n",
      "print \"\\nThe posterior mean of the probability of each diet being effective:\"\n",
      "for idx, i in enumerate(postGamma):\n",
      "    print \"Diet {0}: Gamma {1:.4f}, Beta {2:.4f}\".format(dietIdx[idx], i, postBeta[idx]),\n",
      "    if i > 0.5:\n",
      "        print \"***\\t\"\n",
      "    elif i > 0.4:\n",
      "        print \"*\\t\"\n",
      "    else:\n",
      "        print \"\\t\""
     ],
     "language": "python",
     "metadata": {},
     "outputs": [
      {
       "output_type": "stream",
       "stream": "stdout",
       "text": [
        "The prior Alpha is [ 45.5   -5.75] and the posterior Alpha is [ 45.49123479  -6.07514727]\n",
        "\n",
        "The posterior mean of the probability of each diet being effective:\n",
        "Diet 1: Gamma 0.3042, Beta -0.1395 \t\n",
        "Diet 2: Gamma 0.2409, Beta -0.0860 \t\n",
        "Diet 3: Gamma 0.1734, Beta -0.0462 \t\n",
        "Diet 4: Gamma 0.6875, Beta -0.4392 ***\t\n",
        "Diet 6: Gamma 0.1456, Beta -0.0031 \t\n",
        "Diet 7: Gamma 0.1559, Beta 0.0098 \t\n",
        "Diet 8: Gamma 0.1564, Beta 0.0216 \t\n",
        "Diet 9: Gamma 0.1395, Beta 0.0082 \t\n",
        "Diet 10: Gamma 0.1478, Beta -0.0099 \t\n",
        "Diet 11: Gamma 0.1798, Beta 0.0455 \t\n",
        "Diet 12: Gamma 0.1575, Beta -0.0102 \t\n",
        "Diet 13: Gamma 0.2536, Beta 0.0990 \t\n",
        "Diet 14: Gamma 0.1613, Beta -0.0181 \t\n",
        "Diet 17: Gamma 0.1482, Beta -0.0272 \t\n",
        "Diet 18: Gamma 0.1277, Beta 0.0096 \t\n",
        "Diet 21: Gamma 0.2544, Beta -0.1197 \t\n",
        "Diet 22: Gamma 0.2061, Beta -0.0458 \t\n",
        "Diet 23: Gamma 0.2428, Beta -0.0840 \t\n",
        "Diet 24: Gamma 0.7559, Beta -0.8804 ***\t\n",
        "Diet 25: Gamma 0.1942, Beta 0.0632 \t\n",
        "Diet 26: Gamma 0.1718, Beta 0.0282 \t\n",
        "Diet 27: Gamma 0.1548, Beta 0.0078 \t\n",
        "Diet 28: Gamma 0.5702, Beta 0.3979 ***\t\n",
        "Diet 29: Gamma 0.6131, Beta -0.4448 ***\t\n",
        "Diet 30: Gamma 0.1448, Beta 0.0014 \t\n",
        "Diet 31: Gamma 0.3446, Beta 0.1883 \t\n",
        "Diet 32: Gamma 0.1552, Beta -0.0242 \t\n",
        "Diet 33: Gamma 0.1580, Beta -0.0093 \t\n",
        "Diet 34: Gamma 0.1696, Beta -0.0226 \t\n",
        "Diet 35: Gamma 0.1747, Beta -0.0269 \t\n",
        "Diet 36: Gamma 0.4074, Beta -0.2471 *\t\n",
        "Diet 38: Gamma 0.1760, Beta -0.0464 \t\n",
        "Diet 39: Gamma 0.1423, Beta -0.0081 \t\n",
        "Diet 40: Gamma 0.1436, Beta -0.0049 \t\n",
        "Diet 41: Gamma 0.1892, Beta -0.0487 \t\n",
        "Diet 42: Gamma 0.1624, Beta 0.0221 \t\n",
        "Diet 43: Gamma 0.1528, Beta 0.0185 \t\n",
        "Diet 44: Gamma 0.1424, Beta -0.0057 \t\n",
        "Diet 45: Gamma 0.1787, Beta 0.0503 \t\n",
        "Diet 46: Gamma 0.2643, Beta -0.1192 \t\n",
        "Diet 47: Gamma 0.2461, Beta -0.1048 \t\n",
        "Diet 48: Gamma 0.1538, Beta 0.0270 \t\n",
        "Diet 49: Gamma 0.1433, Beta 0.0050 \t\n",
        "Diet 50: Gamma 0.1938, Beta -0.0552 \t\n",
        "Diet 51: Gamma 0.1589, Beta 0.0300 \t\n",
        "Diet 52: Gamma 0.1584, Beta 0.0273 \t\n",
        "Diet 53: Gamma 0.1903, Beta -0.0526 \t\n",
        "Diet 54: Gamma 0.2166, Beta 0.0789 \t\n",
        "Diet 55: Gamma 0.1536, Beta -0.0149 \t\n",
        "Diet 56: Gamma 0.1387, Beta 0.0088 \t\n",
        "Diet 57: Gamma 0.1970, Beta 0.0686 \t\n",
        "Diet 59: Gamma 0.2405, Beta 0.0910 \t\n",
        "Diet 60: Gamma 0.2749, Beta 0.1286 \t\n",
        "Diet 61: Gamma 0.9989, Beta -1.6639 ***\t\n",
        "Diet 62: Gamma 0.1780, Beta 0.0442 \t\n",
        "Diet 63: Gamma 0.1441, Beta 0.0273 \t\n",
        "Diet 99: Gamma 0.0000, Beta 0.0000 \t\n"
       ]
      }
     ],
     "prompt_number": 44
    },
    {
     "cell_type": "heading",
     "level": 3,
     "metadata": {},
     "source": [
      "Posterior Analysis (with control group)"
     ]
    },
    {
     "cell_type": "code",
     "collapsed": false,
     "input": [
      "mouse_weight = np.loadtxt('mouse_weights_contrl/updates.txt', delimiter=',')\n",
      "postGamma = np.mean(mouse_weight, 0)[0:57]\n",
      "postAlpha = np.mean(mouse_weight, 0)[57:59]\n",
      "postBeta = np.mean(mouse_weight, 0)[59:116]"
     ],
     "language": "python",
     "metadata": {},
     "outputs": [],
     "prompt_number": 2
    },
    {
     "cell_type": "code",
     "collapsed": false,
     "input": [
      "mousediet = pd.read_csv('mouse_weights_nomiss.txt', sep = \" \")\n",
      "dietIdx = np.unique(mousediet['diet'])"
     ],
     "language": "python",
     "metadata": {},
     "outputs": [],
     "prompt_number": 4
    },
    {
     "cell_type": "code",
     "collapsed": false,
     "input": [
      "print \"The prior Alpha is {0} and the posterior Alpha is {1}\".format(np.array([45.50, -5.75]), postAlpha)\n",
      "print \"\\nThe posterior mean of the probability of each diet being effective:\"\n",
      "for idx, i in enumerate(postGamma):\n",
      "    print \"Diet {0}: Gamma {1:.4f}, Beta {2:.4f}\".format(dietIdx[idx], i, postBeta[idx]),\n",
      "    if i > 0.5:\n",
      "        print \"***\\t\"\n",
      "    elif i > 0.4:\n",
      "        print \"*\\t\"\n",
      "    else:\n",
      "        print \"\\t\""
     ],
     "language": "python",
     "metadata": {},
     "outputs": [
      {
       "output_type": "stream",
       "stream": "stdout",
       "text": [
        "The prior Alpha is [ 45.5   -5.75] and the posterior Alpha is [ 45.48831363  -6.08887968]\n",
        "\n",
        "The posterior mean of the probability of each diet being effective:\n",
        "Diet 1: Gamma 0.2857, Beta -0.1261"
       ]
      },
      {
       "output_type": "stream",
       "stream": "stdout",
       "text": [
        " \t\n",
        "Diet 2: Gamma 0.2257, Beta -0.0828 \t\n",
        "Diet 3: Gamma 0.1979, Beta -0.0528 \t\n",
        "Diet 4: Gamma 0.6704, Beta -0.4140 ***\t\n",
        "Diet 6: Gamma 0.1497, Beta 0.0090 \t\n",
        "Diet 7: Gamma 0.1556, Beta 0.0127 \t\n",
        "Diet 8: Gamma 0.1506, Beta 0.0227 \t\n",
        "Diet 9: Gamma 0.1442, Beta 0.0087 \t\n",
        "Diet 10: Gamma 0.1334, Beta -0.0055 \t\n",
        "Diet 11: Gamma 0.1866, Beta 0.0573 \t\n",
        "Diet 12: Gamma 0.1527, Beta -0.0106 \t\n",
        "Diet 13: Gamma 0.2322, Beta 0.0841 \t\n",
        "Diet 14: Gamma 0.1520, Beta -0.0121 \t\n",
        "Diet 17: Gamma 0.1607, Beta -0.0255 \t\n",
        "Diet 18: Gamma 0.1300, Beta 0.0046 \t\n",
        "Diet 21: Gamma 0.2744, Beta -0.1235 \t\n",
        "Diet 22: Gamma 0.2015, Beta -0.0344 \t\n",
        "Diet 23: Gamma 0.2395, Beta -0.0811 \t\n",
        "Diet 24: Gamma 0.7591, Beta -0.8654 ***\t\n",
        "Diet 25: Gamma 0.1871, Beta 0.0537 \t\n",
        "Diet 26: Gamma 0.1852, Beta 0.0454 \t\n",
        "Diet 27: Gamma 0.1484, Beta -0.0080 \t\n",
        "Diet 28: Gamma 0.6044, Beta 0.4486 ***\t\n",
        "Diet 29: Gamma 0.5529, Beta -0.3825 ***\t\n",
        "Diet 30: Gamma 0.1328, Beta 0.0019 \t\n",
        "Diet 31: Gamma 0.3628, Beta 0.2002 \t\n",
        "Diet 32: Gamma 0.1501, Beta -0.0223 \t\n",
        "Diet 33: Gamma 0.1393, Beta -0.0041 \t\n",
        "Diet 34: Gamma 0.1575, Beta -0.0269 \t\n",
        "Diet 35: Gamma 0.1676, Beta -0.0244 \t\n",
        "Diet 36: Gamma 0.4382, Beta -0.2794 *\t\n",
        "Diet 38: Gamma 0.1800, Beta -0.0401 \t\n",
        "Diet 39: Gamma 0.1426, Beta -0.0077 \t\n",
        "Diet 40: Gamma 0.1490, Beta -0.0179 \t\n",
        "Diet 41: Gamma 0.1819, Beta -0.0466 \t\n",
        "Diet 42: Gamma 0.1491, Beta 0.0153 \t\n",
        "Diet 43: Gamma 0.1501, Beta 0.0186 \t\n",
        "Diet 44: Gamma 0.1324, Beta 0.0005 \t\n",
        "Diet 45: Gamma 0.1847, Beta 0.0578 \t\n",
        "Diet 46: Gamma 0.2413, Beta -0.0934 \t\n",
        "Diet 47: Gamma 0.2089, Beta -0.0828 \t\n",
        "Diet 48: Gamma 0.1415, Beta 0.0151 \t\n",
        "Diet 49: Gamma 0.1471, Beta 0.0129 \t\n",
        "Diet 50: Gamma 0.1924, Beta -0.0494 \t\n",
        "Diet 51: Gamma 0.1762, Beta 0.0377 \t\n",
        "Diet 52: Gamma 0.1556, Beta 0.0281 \t\n",
        "Diet 53: Gamma 0.1860, Beta -0.0515 \t\n",
        "Diet 54: Gamma 0.2322, Beta 0.1002 \t\n",
        "Diet 55: Gamma 0.1471, Beta -0.0037 \t\n",
        "Diet 56: Gamma 0.1311, Beta 0.0037 \t\n",
        "Diet 57: Gamma 0.2224, Beta 0.0781 \t\n",
        "Diet 59: Gamma 0.2358, Beta 0.0869 \t\n",
        "Diet 60: Gamma 0.3141, Beta 0.1673 \t\n",
        "Diet 61: Gamma 0.9979, Beta -1.6521 ***\t\n",
        "Diet 62: Gamma 0.2015, Beta 0.0561 \t\n",
        "Diet 63: Gamma 0.1638, Beta 0.0342 \t\n",
        "Diet 99: Gamma 0.1259, Beta 0.0207 \t\n"
       ]
      }
     ],
     "prompt_number": 5
    },
    {
     "cell_type": "heading",
     "level": 3,
     "metadata": {},
     "source": [
      "Posterior Analysis (with Diet 36 only)"
     ]
    },
    {
     "cell_type": "code",
     "collapsed": false,
     "input": [
      "mouse_weight = np.loadtxt('mouse_weights_36/updates.txt', delimiter=',')\n",
      "postGamma = np.mean(mouse_weight, 0)[0:2]\n",
      "postAlpha = np.mean(mouse_weight, 0)[2:4]\n",
      "postBeta = np.mean(mouse_weight, 0)[4:6]"
     ],
     "language": "python",
     "metadata": {},
     "outputs": [],
     "prompt_number": 8
    },
    {
     "cell_type": "code",
     "collapsed": false,
     "input": [
      "mousediet = pd.read_csv('mouse_weights_nomiss.txt', sep = \" \")\n",
      "dietIdx = np.unique(mousediet['diet'])"
     ],
     "language": "python",
     "metadata": {},
     "outputs": [],
     "prompt_number": 13
    },
    {
     "cell_type": "code",
     "collapsed": false,
     "input": [
      "print \"The prior Alpha is {0} and the posterior Alpha is {1}\".format(np.array([45.50, -5.75]), postAlpha)\n",
      "print \"\\nThe posterior mean of the probability of each diet being effective:\"\n",
      "for idx, i in enumerate(postGamma):\n",
      "    print \"Diet {0}: Gamma {1:.4f}, Beta {2:.4f}\".format(dietIdx[idx], i, postBeta[idx]),\n",
      "    if i > 0.5:\n",
      "        print \"***\\t\"\n",
      "    elif i > 0.4:\n",
      "        print \"*\\t\"\n",
      "    else:\n",
      "        print \"\\t\""
     ],
     "language": "python",
     "metadata": {},
     "outputs": [
      {
       "output_type": "stream",
       "stream": "stdout",
       "text": [
        "The prior Alpha is [ 45.5   -5.75] and the posterior Alpha is [ 45.55996293  -5.88358449]\n",
        "\n",
        "The posterior mean of the probability of each diet being effective:\n",
        "Diet 1: Gamma 0.4839, Beta -0.3084 *\t\n",
        "Diet 2: Gamma 0.0000, Beta 0.0000 \t\n"
       ]
      }
     ],
     "prompt_number": 14
    }
   ],
   "metadata": {}
  }
 ]
}